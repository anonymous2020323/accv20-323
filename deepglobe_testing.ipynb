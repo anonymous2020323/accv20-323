{
  "nbformat": 4,
  "nbformat_minor": 0,
  "metadata": {
    "kernelspec": {
      "name": "python3",
      "display_name": "Python 3"
    },
    "language_info": {
      "codemirror_mode": {
        "name": "ipython",
        "version": 3
      },
      "file_extension": ".py",
      "mimetype": "text/x-python",
      "name": "python",
      "nbconvert_exporter": "python",
      "pygments_lexer": "ipython3",
      "version": "3.6.9"
    },
    "colab": {
      "name": "deepglobe_testing.ipynb",
      "provenance": [],
      "toc_visible": true
    },
    "accelerator": "GPU"
  },
  "cells": [
    {
      "cell_type": "markdown",
      "metadata": {
        "id": "o4CJkeWS-WaU",
        "colab_type": "text"
      },
      "source": [
        "# Supplementary: End-to-end testing MagNet with DeepGlobe images"
      ]
    },
    {
      "cell_type": "markdown",
      "metadata": {
        "id": "02o16vsa-WaY",
        "colab_type": "text"
      },
      "source": [
        "*ACCV'20 Submission - ID 323*"
      ]
    },
    {
      "cell_type": "markdown",
      "metadata": {
        "id": "IB8jQOWM-WaZ",
        "colab_type": "text"
      },
      "source": [
        "In this notebook, we will present end-to-end segmentation process with our MagNet framework on DeepGlobe sample images. MagNet is a fast and lightweight framework in high resolution image segmentation.\n",
        "\n",
        "As reported in the paper, we use the Resnet-50 FPN as our backbone to test with 2448x2448 images in DeepGlobe testing set. To run this notebook, we prefer using [Google Colab](https://colab.research.google.com/) has all essential libraries installed for running experiments on GPU."
      ]
    },
    {
      "cell_type": "markdown",
      "metadata": {
        "id": "RBS1lfF_Uwib",
        "colab_type": "text"
      },
      "source": [
        "To open this notebook in Google Colab, click [here]()"
      ]
    },
    {
      "cell_type": "markdown",
      "metadata": {
        "id": "pZbTkLvR-cAh",
        "colab_type": "text"
      },
      "source": [
        "## Set up files\n",
        "\n",
        "To run the experiments, you need to choose **Python 3** with **GPU** in notebook settings.\n",
        "\n",
        "Then, run the following code to download essential files (trained models, sample images, and utilities)"
      ]
    },
    {
      "cell_type": "code",
      "metadata": {
        "id": "dsCWsl4-_Fq4",
        "colab_type": "code",
        "colab": {}
      },
      "source": [
        "!wget https://storage.googleapis.com/anonymous-accv2020/segmentation.zip\n",
        "!unzip segmentation.zip"
      ],
      "execution_count": null,
      "outputs": []
    },
    {
      "cell_type": "markdown",
      "metadata": {
        "id": "HRF3D2xw-Wab",
        "colab_type": "text"
      },
      "source": [
        "## Import libraries"
      ]
    },
    {
      "cell_type": "code",
      "metadata": {
        "id": "CXj-gA1u-Wab",
        "colab_type": "code",
        "colab": {}
      },
      "source": [
        "import os\n",
        "\n",
        "import cv2\n",
        "import numpy as np\n",
        "from PIL import Image\n",
        "\n",
        "import torch\n",
        "\n",
        "from magnet import MagNet\n",
        "from utils import prediction2PIL, mIoU"
      ],
      "execution_count": null,
      "outputs": []
    },
    {
      "cell_type": "markdown",
      "metadata": {
        "id": "hHLS8jSJ-Waf",
        "colab_type": "text"
      },
      "source": [
        "## Constants for DeepGlobe dataset"
      ]
    },
    {
      "cell_type": "code",
      "metadata": {
        "id": "G4m4eYlo-Wag",
        "colab_type": "code",
        "colab": {}
      },
      "source": [
        "n_classes = 7                                                  # Number of classes\n",
        "class2RGB = {                                                  # Map classID to color in the label image\n",
        "    0: [0, 0, 0],\n",
        "    1: [0, 255, 255],\n",
        "    2: [255, 255, 0],\n",
        "    3: [255, 0, 255],\n",
        "    4: [0, 255, 0],\n",
        "    5: [0, 0, 255],\n",
        "    6: [255, 255, 255]\n",
        "}\n",
        "\n",
        "# MagNet config\n",
        "n_levels = 3                                                   # Number of scale levels\n",
        "backbone = \"ResnetFPN\"                                         # Backbone network\n",
        "image_size = (2448, 2448)                                      # Original image size\n",
        "patch_sizes = [(2448, 2448), (1224, 1224), (612, 612)]         # Patch size for each scale level\n",
        "downsample_size = (508, 508)                                   # Size to downsample to\n",
        "device = \"cuda\""
      ],
      "execution_count": null,
      "outputs": []
    },
    {
      "cell_type": "code",
      "metadata": {
        "id": "hkY70kv3-Wak",
        "colab_type": "code",
        "colab": {}
      },
      "source": [
        "images = [                                                              # image paths for testing\n",
        "    \"samples/deepglobe/606_sat.jpg\",\n",
        "    \"samples/deepglobe/28935_sat.jpg\",\n",
        "    \"samples/deepglobe/842556_sat.jpg\",\n",
        "]\n",
        "labels = [image.replace(\"_sat.jpg\", \"_mask.png\") for image in images]   # label paths for testing"
      ],
      "execution_count": null,
      "outputs": []
    },
    {
      "cell_type": "code",
      "metadata": {
        "id": "23EHisYU-Wam",
        "colab_type": "code",
        "colab": {}
      },
      "source": [
        "model_paths = [                                                         # model weight to restore\n",
        "    \"models/deepglobe/resnetfpn_level1_2448_508.pth\",\n",
        "    \"models/deepglobe/resnetfpn_level2_1224_508.pth\",\n",
        "    \"models/deepglobe/resnetfpn_level3_612_508.pth\"\n",
        "]"
      ],
      "execution_count": null,
      "outputs": []
    },
    {
      "cell_type": "markdown",
      "metadata": {
        "id": "MTIwiJrP-Wap",
        "colab_type": "text"
      },
      "source": [
        "## Segment DeepGlobe images"
      ]
    },
    {
      "cell_type": "markdown",
      "metadata": {
        "id": "ERDukY4t-War",
        "colab_type": "text"
      },
      "source": [
        "### Prepare images and models"
      ]
    },
    {
      "cell_type": "markdown",
      "metadata": {
        "id": "d5OLx-y3-Was",
        "colab_type": "text"
      },
      "source": [
        "Create a MagNet instance for testing"
      ]
    },
    {
      "cell_type": "code",
      "metadata": {
        "id": "gv5myeON-Wat",
        "colab_type": "code",
        "colab": {}
      },
      "source": [
        "magnet = MagNet(backbone, n_levels, model_paths, device, n_classes, image_size, patch_sizes, downsample_size)"
      ],
      "execution_count": null,
      "outputs": []
    },
    {
      "cell_type": "markdown",
      "metadata": {
        "id": "azgBeUyD-Wav",
        "colab_type": "text"
      },
      "source": [
        "Choose image to test"
      ]
    },
    {
      "cell_type": "code",
      "metadata": {
        "id": "YuJFghik-Waw",
        "colab_type": "code",
        "colab": {}
      },
      "source": [
        "image_id = 0 # You can replace with 0,1,2"
      ],
      "execution_count": null,
      "outputs": []
    },
    {
      "cell_type": "markdown",
      "metadata": {
        "id": "ZROf3dKP-Waz",
        "colab_type": "text"
      },
      "source": [
        "Load and show image (have been resize to show)"
      ]
    },
    {
      "cell_type": "code",
      "metadata": {
        "id": "YDtMB4J1-Waz",
        "colab_type": "code",
        "colab": {}
      },
      "source": [
        "# Read and show image\n",
        "image = Image.open(images[image_id]).convert(\"RGB\")\n",
        "image.resize((512,512))"
      ],
      "execution_count": null,
      "outputs": []
    },
    {
      "cell_type": "markdown",
      "metadata": {
        "id": "VoKQ9yB2-Wa3",
        "colab_type": "text"
      },
      "source": [
        "Segment images with 3 scales"
      ]
    },
    {
      "cell_type": "markdown",
      "metadata": {
        "id": "lKnpysjl-Wa4",
        "colab_type": "text"
      },
      "source": [
        "### Segment image with MagNet"
      ]
    },
    {
      "cell_type": "code",
      "metadata": {
        "id": "_LrZnFCD-Wa5",
        "colab_type": "code",
        "colab": {}
      },
      "source": [
        "pred = magnet.segment(image)"
      ],
      "execution_count": null,
      "outputs": []
    },
    {
      "cell_type": "markdown",
      "metadata": {
        "id": "fBDm7nau-Wa7",
        "colab_type": "text"
      },
      "source": [
        "### Show results and mIoU of each scale level"
      ]
    },
    {
      "cell_type": "markdown",
      "metadata": {
        "id": "Hzxp7Vdk-Wa8",
        "colab_type": "text"
      },
      "source": [
        "#### Load and show segmentation ground-truth"
      ]
    },
    {
      "cell_type": "code",
      "metadata": {
        "id": "C6_jW3Dq-Wa9",
        "colab_type": "code",
        "colab": {}
      },
      "source": [
        "label_path = labels[image_id]\n",
        "label = Image.open(label_path).convert(\"RGB\")\n",
        "label.resize((512,512))"
      ],
      "execution_count": null,
      "outputs": []
    },
    {
      "cell_type": "markdown",
      "metadata": {
        "id": "AuyUJP0G-WbB",
        "colab_type": "text"
      },
      "source": [
        "#### For scale 1"
      ]
    },
    {
      "cell_type": "markdown",
      "metadata": {
        "id": "Jv_aQNS7-WbC",
        "colab_type": "text"
      },
      "source": [
        "Show the prediction"
      ]
    },
    {
      "cell_type": "code",
      "metadata": {
        "id": "JafS05ec-WbD",
        "colab_type": "code",
        "colab": {}
      },
      "source": [
        "pred_scale1 = prediction2PIL(class2RGB, pred[0])\n",
        "pred_scale1.resize((512,512))"
      ],
      "execution_count": null,
      "outputs": []
    },
    {
      "cell_type": "markdown",
      "metadata": {
        "id": "yGDOr3IA-WbH",
        "colab_type": "text"
      },
      "source": [
        "Calculate mIoU between scale 1 and label"
      ]
    },
    {
      "cell_type": "code",
      "metadata": {
        "id": "xQsQvICj-WbJ",
        "colab_type": "code",
        "colab": {}
      },
      "source": [
        "iou = mIoU(class2RGB, label, pred_scale1)\n",
        "print(\"IoU at scale 1 is %.2f %%\" % (iou*100))"
      ],
      "execution_count": null,
      "outputs": []
    },
    {
      "cell_type": "markdown",
      "metadata": {
        "id": "A7ezknIA-WbO",
        "colab_type": "text"
      },
      "source": [
        "#### For scale 2"
      ]
    },
    {
      "cell_type": "markdown",
      "metadata": {
        "id": "LxLxPblI-WbP",
        "colab_type": "text"
      },
      "source": [
        "The prediction"
      ]
    },
    {
      "cell_type": "code",
      "metadata": {
        "id": "xtAMSUpF-WbQ",
        "colab_type": "code",
        "colab": {}
      },
      "source": [
        "pred_scale2 = prediction2PIL(class2RGB, pred[1])\n",
        "pred_scale2.resize((512,512))"
      ],
      "execution_count": null,
      "outputs": []
    },
    {
      "cell_type": "markdown",
      "metadata": {
        "id": "lvzBhyc_-WbU",
        "colab_type": "text"
      },
      "source": [
        "The IoU of scale 2"
      ]
    },
    {
      "cell_type": "code",
      "metadata": {
        "id": "xzmRb4oV-WbV",
        "colab_type": "code",
        "colab": {}
      },
      "source": [
        "iou = mIoU(class2RGB, label, pred_scale2)\n",
        "print(\"IoU at scale 2 is %.2f %%\" % (iou*100))"
      ],
      "execution_count": null,
      "outputs": []
    },
    {
      "cell_type": "markdown",
      "metadata": {
        "id": "6TDmS8_u-WbY",
        "colab_type": "text"
      },
      "source": [
        "#### For scale 3"
      ]
    },
    {
      "cell_type": "markdown",
      "metadata": {
        "id": "rBpv0DNL-WbZ",
        "colab_type": "text"
      },
      "source": [
        "Show the prediction"
      ]
    },
    {
      "cell_type": "code",
      "metadata": {
        "id": "tdKIzBET-Wba",
        "colab_type": "code",
        "colab": {}
      },
      "source": [
        "pred_scale3 = prediction2PIL(class2RGB, pred[2])\n",
        "pred_scale3.resize((512,512))"
      ],
      "execution_count": null,
      "outputs": []
    },
    {
      "cell_type": "markdown",
      "metadata": {
        "id": "wIgP_yr2-Wbe",
        "colab_type": "text"
      },
      "source": [
        "The IoU at scale 3"
      ]
    },
    {
      "cell_type": "code",
      "metadata": {
        "id": "iyT4TMyN-Wbf",
        "colab_type": "code",
        "colab": {}
      },
      "source": [
        "iou = mIoU(class2RGB, label, pred_scale3)\n",
        "print(\"IoU at scale 3 is %.2f %%\" % (iou*100))"
      ],
      "execution_count": null,
      "outputs": []
    },
    {
      "cell_type": "code",
      "metadata": {
        "id": "ZXf4kuaVA41N",
        "colab_type": "code",
        "colab": {}
      },
      "source": [
        ""
      ],
      "execution_count": null,
      "outputs": []
    }
  ]
}